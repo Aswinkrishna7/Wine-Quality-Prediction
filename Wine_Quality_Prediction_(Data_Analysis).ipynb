{
  "nbformat": 4,
  "nbformat_minor": 0,
  "metadata": {
    "colab": {
      "provenance": []
    },
    "kernelspec": {
      "name": "python3",
      "display_name": "Python 3"
    },
    "language_info": {
      "name": "python"
    }
  },
  "cells": [
    {
      "cell_type": "markdown",
      "source": [
        "# **Wine Quality Prediction**"
      ],
      "metadata": {
        "id": "dqZ-nhxiganh"
      }
    },
    {
      "cell_type": "markdown",
      "source": [
        "-------------"
      ],
      "metadata": {
        "id": "gScHkw6jjrLo"
      }
    },
    {
      "cell_type": "markdown",
      "source": [
        "## **Objective**"
      ],
      "metadata": {
        "id": "Xns_rCdhh-vZ"
      }
    },
    {
      "cell_type": "markdown",
      "source": [
        "The objective of this project is to predict the quality of wine based on various chemical properties using a machine learning model."
      ],
      "metadata": {
        "id": "9sPvnFM1iI9l"
      }
    },
    {
      "cell_type": "markdown",
      "source": [
        "## **Data Source**"
      ],
      "metadata": {
        "id": "-Vbnt9CciKJP"
      }
    },
    {
      "cell_type": "markdown",
      "source": [
        "The dataset used in this project consists of wine quality data for red and white wines, which includes various chemical properties and quality ratings. The dataset is available on UCI Machine Learning Repository."
      ],
      "metadata": {
        "id": "sGcv5WqQiNyl"
      }
    },
    {
      "cell_type": "markdown",
      "source": [
        "## **Import Library**"
      ],
      "metadata": {
        "id": "r7GrZzX0iTlV"
      }
    },
    {
      "cell_type": "code",
      "source": [
        "# Import Libraries\n",
        "import numpy as np\n",
        "import pandas as pd\n",
        "import matplotlib.pyplot as plt\n",
        "import seaborn as sns\n",
        "from sklearn.model_selection import train_test_split, cross_val_score\n",
        "from sklearn.ensemble import RandomForestClassifier\n",
        "from sklearn.metrics import accuracy_score, confusion_matrix\n"
      ],
      "metadata": {
        "id": "UkK6NH9DiW-X"
      },
      "execution_count": null,
      "outputs": []
    },
    {
      "cell_type": "markdown",
      "source": [
        "## **Import Data**"
      ],
      "metadata": {
        "id": "9lHPQj1XiOUc"
      }
    },
    {
      "cell_type": "code",
      "source": [
        "# Import Data\n",
        "# Load dataset\n",
        "data_red = pd.read_csv('winequality-red.csv')\n",
        "data_white = pd.read_csv('winequality-white.csv')\n",
        "\n",
        "# Combine both datasets\n",
        "data_red['type'] = 'red'\n",
        "data_white['type'] = 'white'\n",
        "data = pd.concat([data_red, data_white], axis=0)\n"
      ],
      "metadata": {
        "id": "zcU1fdnGho6M"
      },
      "execution_count": null,
      "outputs": []
    },
    {
      "cell_type": "markdown",
      "source": [
        "## **Describe Data**"
      ],
      "metadata": {
        "id": "7PUnimBoiX-x"
      }
    },
    {
      "cell_type": "code",
      "source": [
        "# Describe Data\n",
        "\n",
        "data.describe()\n"
      ],
      "metadata": {
        "id": "kG15arusiZ8Z"
      },
      "execution_count": null,
      "outputs": []
    },
    {
      "cell_type": "markdown",
      "source": [
        "## **Data Visualization**"
      ],
      "metadata": {
        "id": "oBGX4Ekniriz"
      }
    },
    {
      "cell_type": "code",
      "source": [
        "# Data Visualization\n",
        "\n",
        "\n",
        "# Correlation chart\n",
        "colormap = plt.cm.viridis\n",
        "plt.figure(figsize=(12, 12))\n",
        "plt.title('Correlation of Features', y=1.05, size=15)\n",
        "sns.heatmap(data.drop('type', axis=1).astype(float).corr(), linewidths=0.1, vmax=1.0, square=True, linecolor='white', annot=True)\n",
        "plt.show()\n"
      ],
      "metadata": {
        "id": "lW-OIRK0iuzO"
      },
      "execution_count": null,
      "outputs": []
    },
    {
      "cell_type": "markdown",
      "source": [
        "## **Data Preprocessing**"
      ],
      "metadata": {
        "id": "UqfyPOCYiiww"
      }
    },
    {
      "cell_type": "code",
      "source": [
        "# Data Preprocessing\n",
        "\n",
        "\n",
        "# Check for missing values\n",
        "data.isnull().sum()\n",
        "\n",
        "# Check for duplicate entries\n",
        "extra = data[data.duplicated()]\n",
        "print(\"Number of duplicate rows: \", extra.shape[0])\n",
        "\n",
        "# Drop duplicates\n",
        "data = data.drop_duplicates()\n",
        "\n",
        "# Encode 'type' column\n",
        "data['type'] = data['type'].map({'red': 0, 'white': 1})\n"
      ],
      "metadata": {
        "id": "3cyr3fbGin0A"
      },
      "execution_count": null,
      "outputs": []
    },
    {
      "cell_type": "markdown",
      "source": [
        "## **Define Target Variable (y) and Feature Variables (X)**"
      ],
      "metadata": {
        "id": "2jXJpdAuiwYW"
      }
    },
    {
      "cell_type": "code",
      "source": [
        "# Define Target Variable (y) and Feature Variables (X)\n",
        "\n",
        "y = data.quality  # set 'quality' as target\n",
        "X = data.drop(['quality'], axis=1)  # rest are features\n"
      ],
      "metadata": {
        "id": "QBCakTuli57t"
      },
      "execution_count": null,
      "outputs": []
    },
    {
      "cell_type": "markdown",
      "source": [
        "## **Train Test Split**"
      ],
      "metadata": {
        "id": "90_0q_Pbi658"
      }
    },
    {
      "cell_type": "code",
      "source": [
        "# Train Test Split\n",
        "\n",
        "seed = 8  # set seed for reproducibility\n",
        "X_train, X_test, y_train, y_test = train_test_split(X, y, test_size=0.2, random_state=seed)\n"
      ],
      "metadata": {
        "id": "u60YYaOFi-Dw"
      },
      "execution_count": null,
      "outputs": []
    },
    {
      "cell_type": "markdown",
      "source": [
        "## **Modeling**"
      ],
      "metadata": {
        "id": "cIhyseNria7W"
      }
    },
    {
      "cell_type": "code",
      "source": [
        "# Modeling\n",
        "\n",
        "RF_clf = RandomForestClassifier(random_state=seed)\n",
        "RF_clf.fit(X_train, y_train)\n"
      ],
      "metadata": {
        "id": "Toq58wpkjCw7"
      },
      "execution_count": null,
      "outputs": []
    },
    {
      "cell_type": "markdown",
      "source": [
        "## **Model Evaluation**"
      ],
      "metadata": {
        "id": "vhAwWfG0jFun"
      }
    },
    {
      "cell_type": "code",
      "source": [
        "# Model Evaluation\n",
        "\n",
        "pred_RF = RF_clf.predict(X_test)\n",
        "accuracy = accuracy_score(y_test, pred_RF)\n",
        "print(\"Accuracy: \", accuracy)\n",
        "\n",
        "conf_matrix = confusion_matrix(y_test, pred_RF)\n",
        "print(\"Confusion Matrix:\\n\", conf_matrix)\n"
      ],
      "metadata": {
        "id": "lND3jJj_jhx4"
      },
      "execution_count": null,
      "outputs": []
    },
    {
      "cell_type": "markdown",
      "source": [
        "## **Prediction**"
      ],
      "metadata": {
        "id": "8AzwG7oLjiQI"
      }
    },
    {
      "cell_type": "code",
      "source": [
        "def show_quality(inputs):\n",
        "    try:\n",
        "        new = np.array([inputs])\n",
        "        Ans = RF_clf.predict(new)\n",
        "        fin = str(Ans)[1:-1]  # Remove [ ]\n",
        "        return fin\n",
        "    except Exception as e:\n",
        "        return f\"Error: {str(e)}\""
      ],
      "metadata": {
        "id": "JLebGzDJjknA"
      },
      "execution_count": null,
      "outputs": []
    },
    {
      "cell_type": "markdown",
      "source": [
        "## **Explaination**\n",
        "This project aims to predict wine quality based on chemical properties using machine learning. The dataset includes red and white wines, sourced from the UCI Machine Learning Repository. We use Python libraries for data manipulation, visualization, and modeling. After preprocessing and splitting the data, a Random Forest Classifier is trained and evaluated for predicting wine quality. This project showcases the application of machine learning in quality assessment, offering insights into wine composition and predictive modeling techniques.\n",
        "\n",
        "\n",
        "\n",
        "\n",
        "\n",
        "\n",
        "\n"
      ],
      "metadata": {
        "id": "SBo38CJZjlEX"
      }
    },
    {
      "cell_type": "markdown",
      "source": [],
      "metadata": {
        "id": "Ybi8FR9Kjv00"
      }
    }
  ]
}